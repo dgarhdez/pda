{
 "cells": [
  {
   "cell_type": "markdown",
   "metadata": {},
   "source": [
    "# Variables\n",
    "\n",
    "In Python, the first step to start working is being able to store data and access it later, when we need it. We can store data in variables.\n",
    "\n",
    "Think of a variable like a box that can store objects. We can put objects in the box, and we can also change what is in the box whenever we want. We can also stick a label to the variable, so that we can find it later.\n",
    "\n",
    "Is this analogy:\n",
    "* The box is the variable\n",
    "* The objects are the data that we store in the variable\n",
    "* The label on the box is the name of the variable"
   ]
  },
  {
   "cell_type": "markdown",
   "metadata": {},
   "source": [
    "## Creating variables\n",
    "\n",
    "Before storing anything in a variable, we need to think of a name for it. The name of a variable can be anything we want, but it has to follow some rules:\n",
    "\n",
    "* It can only contain letters, numbers and underscores\n",
    "* It can't start with a number\n",
    "* It can't be a reserved word (like `print` or `for`) -- we'll learn more about reserved words later\n",
    "\n",
    "Once we have a name, we can create the variable by using the `=` operator. The name of the variable goes on the left side of the `=` operator, and the data we want to store goes on the right side."
   ]
  },
  {
   "cell_type": "code",
   "execution_count": 1,
   "metadata": {},
   "outputs": [],
   "source": [
    "my_first_variable = 10"
   ]
  },
  {
   "cell_type": "markdown",
   "metadata": {},
   "source": [
    "By doing that, we have store a piece of information (the number 10) in memory under a variable called `my_first_variable`."
   ]
  },
  {
   "cell_type": "markdown",
   "metadata": {},
   "source": [
    "## Using variables\n",
    "\n",
    "Once we have created a variable, we can use it to access the data that we have stored in it. We can do that by calling the name of the variable."
   ]
  },
  {
   "cell_type": "code",
   "execution_count": 2,
   "metadata": {},
   "outputs": [
    {
     "data": {
      "text/plain": [
       "10"
      ]
     },
     "execution_count": 2,
     "metadata": {},
     "output_type": "execute_result"
    }
   ],
   "source": [
    "my_first_variable"
   ]
  },
  {
   "cell_type": "markdown",
   "metadata": {},
   "source": [
    "When we execute the code above, Python goes into the memory of the computer, looks for a box with the label `my_first_variable`, opens it, and returns the data that is inside.\n",
    "\n",
    "But the variable is still there, unchanged. Nothing stops us from using it again."
   ]
  },
  {
   "cell_type": "code",
   "execution_count": 3,
   "metadata": {},
   "outputs": [
    {
     "data": {
      "text/plain": [
       "10"
      ]
     },
     "execution_count": 3,
     "metadata": {},
     "output_type": "execute_result"
    }
   ],
   "source": [
    "my_first_variable"
   ]
  },
  {
   "cell_type": "markdown",
   "metadata": {},
   "source": [
    "Still there."
   ]
  },
  {
   "cell_type": "markdown",
   "metadata": {},
   "source": [
    "## Understanding variables\n",
    "\n",
    "When we create a variable, what we are actually doing is basically saving something in memory and letting python know where it is. It's like giving Python an address book containing the locations of all the objects saved in memory.\n",
    "\n",
    "When we call a variable, Python looks at the address book, finds the location of the object we want, and returns it.\n",
    "\n",
    "In fact, we can have multiple variables pointing to the same object. When we do that, we are basically adding another entry to the address book, pointing to the same location."
   ]
  },
  {
   "cell_type": "code",
   "execution_count": 4,
   "metadata": {},
   "outputs": [
    {
     "data": {
      "text/plain": [
       "True"
      ]
     },
     "execution_count": 4,
     "metadata": {},
     "output_type": "execute_result"
    }
   ],
   "source": [
    "a = 5\n",
    "b = 5\n",
    "\n",
    "a is b"
   ]
  },
  {
   "cell_type": "markdown",
   "metadata": {},
   "source": [
    "The piece of code above creates two variables, `a` and `b`, and makes them both point to the same object, the number 5. The we ask Python whether the object with address `a` is the same as the object with address `b`. Python returns `True`, because they are the same object. There are not two objects with the value 5, there is only one.\n",
    "\n",
    "In order to be efficient, Python will only save one copy of the object in memory, and will use the address book to know where to find it. Even if there are several addresses all of them point to the same object.\n",
    "\n",
    "On the same topic, we have to be careful when we have several variables pointing to the same object. If we change the object, all the variables pointing to it will change as well (unless its an immutable object, but we'll learn about that later)."
   ]
  },
  {
   "cell_type": "markdown",
   "metadata": {},
   "source": [
    "# Objects\n",
    "\n",
    "In Python, everything we can store in a variable is an object. An object is a piece of data that has a type and a value.\n",
    "\n",
    "The type of an object defines what kind of data it is.\n",
    "\n",
    "* `int` objects are integers, like 1, 2, 3, -1, -90\n",
    "* `float` objects are floating point numbers, like 1.5, -3.141592, 2.718281828459045\n",
    "* `str` objects are strings, like `'hello world'` or `\"python\"`\n",
    "* `bool` objects are booleans, which can be either `True` or `False`\n",
    "* `NoneType` objects are special objects that only have one value, `None`\n",
    "\n",
    "There are many more object types, but we'll learn about them later, in their own sections."
   ]
  },
  {
   "cell_type": "markdown",
   "metadata": {},
   "source": [
    "## Objects properties and methods\n",
    "\n",
    "Like in the real world, objects have properties and methods.\n",
    "\n",
    "Properties are characteristics of the object, and methods are actions that the object can perform or be subjected to.\n",
    "\n",
    "Examples of properties of an `int` object are its value, its sign, and its size in memory. Examples of methods are addition, subtraction, multiplication, and division.\n",
    "\n",
    "Different objects have different properties and methods, and we can't expect all objects to have the same properties and methods."
   ]
  },
  {
   "cell_type": "markdown",
   "metadata": {},
   "source": [
    "## Finding the type of an object\n",
    "\n",
    "We can find the type of an object by using the `type()` function. The `type()` function takes an object as an argument, and returns the type of that object.\n",
    "\n",
    "We can also use it on a variable, and it will return the type of the object that the variable is pointing to."
   ]
  },
  {
   "cell_type": "code",
   "execution_count": 1,
   "metadata": {},
   "outputs": [
    {
     "data": {
      "text/plain": [
       "str"
      ]
     },
     "execution_count": 1,
     "metadata": {},
     "output_type": "execute_result"
    }
   ],
   "source": [
    "type(\"a\")"
   ]
  },
  {
   "cell_type": "code",
   "execution_count": 2,
   "metadata": {},
   "outputs": [
    {
     "data": {
      "text/plain": [
       "int"
      ]
     },
     "execution_count": 2,
     "metadata": {},
     "output_type": "execute_result"
    }
   ],
   "source": [
    "type(5)"
   ]
  },
  {
   "cell_type": "code",
   "execution_count": 3,
   "metadata": {},
   "outputs": [
    {
     "data": {
      "text/plain": [
       "float"
      ]
     },
     "execution_count": 3,
     "metadata": {},
     "output_type": "execute_result"
    }
   ],
   "source": [
    "type(-3.0)"
   ]
  },
  {
   "cell_type": "markdown",
   "metadata": {},
   "source": [
    "## Duck typing\n",
    "\n",
    "In Python, we don't need to know the type of an object in order to use it. We can just use it, and Python will figure out what to do.\n",
    "\n",
    "This is called duck typing, and it's one of the most important concepts in Python.\n",
    "\n",
    "The name comes from the saying \"If it looks like a duck, swims like a duck, and quacks like a duck, then it probably is a duck\".\n"
   ]
  }
 ],
 "metadata": {
  "kernelspec": {
   "display_name": "pda1",
   "language": "python",
   "name": "python3"
  },
  "language_info": {
   "codemirror_mode": {
    "name": "ipython",
    "version": 3
   },
   "file_extension": ".py",
   "mimetype": "text/x-python",
   "name": "python",
   "nbconvert_exporter": "python",
   "pygments_lexer": "ipython3",
   "version": "3.9.16"
  }
 },
 "nbformat": 4,
 "nbformat_minor": 2
}
